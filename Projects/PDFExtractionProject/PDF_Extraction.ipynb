{
  "cells": [
    {
      "cell_type": "code",
      "execution_count": 1,
      "metadata": {
        "colab": {
          "base_uri": "https://localhost:8080/"
        },
        "id": "lmJezo131ewu",
        "outputId": "b84b21b4-b637-4845-bb74-70641e981be0"
      },
      "outputs": [
        {
          "name": "stdout",
          "output_type": "stream",
          "text": [
            "Collecting dotenv\n",
            "  Downloading dotenv-0.9.9-py2.py3-none-any.whl.metadata (279 bytes)\n",
            "Requirement already satisfied: google-genai in c:\\users\\je385ef\\appdata\\local\\programs\\python\\python313\\lib\\site-packages (1.8.0)\n",
            "Requirement already satisfied: pydantic in c:\\users\\je385ef\\appdata\\local\\programs\\python\\python313\\lib\\site-packages (2.10.5)\n",
            "Requirement already satisfied: python-dotenv in c:\\users\\je385ef\\appdata\\local\\programs\\python\\python313\\lib\\site-packages (from dotenv) (1.1.0)\n",
            "Requirement already satisfied: anyio<5.0.0,>=4.8.0 in c:\\users\\je385ef\\appdata\\local\\programs\\python\\python313\\lib\\site-packages (from google-genai) (4.8.0)\n",
            "Requirement already satisfied: google-auth<3.0.0,>=2.14.1 in c:\\users\\je385ef\\appdata\\local\\programs\\python\\python313\\lib\\site-packages (from google-genai) (2.37.0)\n",
            "Requirement already satisfied: httpx<1.0.0,>=0.28.1 in c:\\users\\je385ef\\appdata\\local\\programs\\python\\python313\\lib\\site-packages (from google-genai) (0.28.1)\n",
            "Requirement already satisfied: requests<3.0.0,>=2.28.1 in c:\\users\\je385ef\\appdata\\local\\programs\\python\\python313\\lib\\site-packages (from google-genai) (2.32.3)\n",
            "Requirement already satisfied: websockets<15.1.0,>=13.0.0 in c:\\users\\je385ef\\appdata\\local\\programs\\python\\python313\\lib\\site-packages (from google-genai) (15.0.1)\n",
            "Requirement already satisfied: typing-extensions<5.0.0,>=4.11.0 in c:\\users\\je385ef\\appdata\\local\\programs\\python\\python313\\lib\\site-packages (from google-genai) (4.12.2)\n",
            "Requirement already satisfied: annotated-types>=0.6.0 in c:\\users\\je385ef\\appdata\\local\\programs\\python\\python313\\lib\\site-packages (from pydantic) (0.7.0)\n",
            "Requirement already satisfied: pydantic-core==2.27.2 in c:\\users\\je385ef\\appdata\\local\\programs\\python\\python313\\lib\\site-packages (from pydantic) (2.27.2)\n",
            "Requirement already satisfied: idna>=2.8 in c:\\users\\je385ef\\appdata\\local\\programs\\python\\python313\\lib\\site-packages (from anyio<5.0.0,>=4.8.0->google-genai) (3.10)\n",
            "Requirement already satisfied: sniffio>=1.1 in c:\\users\\je385ef\\appdata\\local\\programs\\python\\python313\\lib\\site-packages (from anyio<5.0.0,>=4.8.0->google-genai) (1.3.1)\n",
            "Requirement already satisfied: cachetools<6.0,>=2.0.0 in c:\\users\\je385ef\\appdata\\local\\programs\\python\\python313\\lib\\site-packages (from google-auth<3.0.0,>=2.14.1->google-genai) (5.5.0)\n",
            "Requirement already satisfied: pyasn1-modules>=0.2.1 in c:\\users\\je385ef\\appdata\\local\\programs\\python\\python313\\lib\\site-packages (from google-auth<3.0.0,>=2.14.1->google-genai) (0.4.1)\n",
            "Requirement already satisfied: rsa<5,>=3.1.4 in c:\\users\\je385ef\\appdata\\local\\programs\\python\\python313\\lib\\site-packages (from google-auth<3.0.0,>=2.14.1->google-genai) (4.9)\n",
            "Requirement already satisfied: certifi in c:\\users\\je385ef\\appdata\\local\\programs\\python\\python313\\lib\\site-packages (from httpx<1.0.0,>=0.28.1->google-genai) (2024.12.14)\n",
            "Requirement already satisfied: httpcore==1.* in c:\\users\\je385ef\\appdata\\local\\programs\\python\\python313\\lib\\site-packages (from httpx<1.0.0,>=0.28.1->google-genai) (1.0.7)\n",
            "Requirement already satisfied: h11<0.15,>=0.13 in c:\\users\\je385ef\\appdata\\local\\programs\\python\\python313\\lib\\site-packages (from httpcore==1.*->httpx<1.0.0,>=0.28.1->google-genai) (0.14.0)\n",
            "Requirement already satisfied: charset-normalizer<4,>=2 in c:\\users\\je385ef\\appdata\\local\\programs\\python\\python313\\lib\\site-packages (from requests<3.0.0,>=2.28.1->google-genai) (3.4.1)\n",
            "Requirement already satisfied: urllib3<3,>=1.21.1 in c:\\users\\je385ef\\appdata\\local\\programs\\python\\python313\\lib\\site-packages (from requests<3.0.0,>=2.28.1->google-genai) (2.3.0)\n",
            "Requirement already satisfied: pyasn1<0.7.0,>=0.4.6 in c:\\users\\je385ef\\appdata\\local\\programs\\python\\python313\\lib\\site-packages (from pyasn1-modules>=0.2.1->google-auth<3.0.0,>=2.14.1->google-genai) (0.6.1)\n",
            "Downloading dotenv-0.9.9-py2.py3-none-any.whl (1.9 kB)\n",
            "Installing collected packages: dotenv\n",
            "Successfully installed dotenv-0.9.9\n",
            "Note: you may need to restart the kernel to use updated packages.\n"
          ]
        }
      ],
      "source": [
        "pip install dotenv google-genai pydantic"
      ]
    },
    {
      "cell_type": "code",
      "execution_count": 2,
      "metadata": {
        "id": "k5S9ptk_1a9P"
      },
      "outputs": [],
      "source": [
        "import pandas as pd\n",
        "import os\n",
        "from dotenv import load_dotenv\n",
        "load_dotenv()\n",
        "from google import genai\n",
        "from pydantic import BaseModel\n",
        "from google.genai import types\n",
        "from google.genai.types import Part, GenerateContentConfig\n",
        "import json\n"
      ]
    },
    {
      "cell_type": "code",
      "execution_count": null,
      "metadata": {
        "id": "d5Mdv8Ph1c0L"
      },
      "outputs": [],
      "source": [
        "JSON_MIME_TYPE = \"application/json\"\n",
        "PDF_MIME_TYPE = \"application/pdf\"\n",
        "\n",
        "os.environ[\"GEMINI_API_KEY\"] = os.get(\"GEMINI_API_KEY\")\n",
        "client = genai.Client()\n",
        "model = \"gemini-2.0-flash\""
      ]
    },
    {
      "cell_type": "code",
      "execution_count": 8,
      "metadata": {
        "id": "pNz-jiu61s2O"
      },
      "outputs": [],
      "source": [
        "class PayslipInfo(BaseModel):\n",
        "  employee_no: int\n",
        "  employee_name: str\n",
        "  gpn: str\n",
        "  designation: str\n",
        "  location: str"
      ]
    },
    {
      "cell_type": "code",
      "execution_count": 9,
      "metadata": {
        "id": "fXOr3Ms31vC4"
      },
      "outputs": [],
      "source": [
        "  with open('Payslip_Oct_2024.pdf', 'rb') as f:\n",
        "    file_bytes = f.read()"
      ]
    },
    {
      "cell_type": "code",
      "execution_count": 10,
      "metadata": {
        "id": "5GJ-JHlP2C2X"
      },
      "outputs": [],
      "source": [
        "input_prompt = \"\"\"Analyse the payslips in the form of strings for completeness and correctness.\n",
        "identify the given fields and return the values in JSON format.\n",
        "Such as:\n",
        "1. Employee No\n",
        "2. Employee Name\n",
        "3. GPN\n",
        "4. Designation\n",
        "5. Location\n",
        "\"\"\""
      ]
    },
    {
      "cell_type": "code",
      "execution_count": 11,
      "metadata": {
        "colab": {
          "base_uri": "https://localhost:8080/"
        },
        "id": "tShdPC3U1X-g",
        "outputId": "edf2bc7f-911d-44fe-c4f3-c43783c2ab48"
      },
      "outputs": [
        {
          "name": "stdout",
          "output_type": "stream",
          "text": [
            "{\n",
            "  \"employee_no\": 3219904,\n",
            "  \"employee_name\": \"Akshay Kumar Police Patil\",\n",
            "  \"gpn\": \"IN010137068\",\n",
            "  \"designation\": \"Test Engineer\",\n",
            "  \"location\": \"Bangalore\"\n",
            "}\n"
          ]
        }
      ],
      "source": [
        "response = client.models.generate_content(\n",
        "    model = 'gemini-2.0-flash-001',\n",
        "    contents = [\"The given document is payslip.\",\n",
        "               Part.from_bytes(data=file_bytes, mime_type=PDF_MIME_TYPE)],\n",
        "    config = GenerateContentConfig(\n",
        "        system_instruction= input_prompt,\n",
        "        response_mime_type='application/json',\n",
        "        response_schema=PayslipInfo,\n",
        "        temperature=0\n",
        "    )\n",
        ")\n",
        "\n",
        "print(response.text)"
      ]
    },
    {
      "cell_type": "code",
      "execution_count": 12,
      "metadata": {},
      "outputs": [],
      "source": [
        "pdf = pd.DataFrame([json.loads(response.text)])\n",
        "pdf.to_csv('payslip.csv', index=False)"
      ]
    },
    {
      "cell_type": "code",
      "execution_count": null,
      "metadata": {},
      "outputs": [],
      "source": []
    }
  ],
  "metadata": {
    "colab": {
      "provenance": []
    },
    "kernelspec": {
      "display_name": "Python 3",
      "name": "python3"
    },
    "language_info": {
      "codemirror_mode": {
        "name": "ipython",
        "version": 3
      },
      "file_extension": ".py",
      "mimetype": "text/x-python",
      "name": "python",
      "nbconvert_exporter": "python",
      "pygments_lexer": "ipython3",
      "version": "3.13.1"
    }
  },
  "nbformat": 4,
  "nbformat_minor": 0
}
